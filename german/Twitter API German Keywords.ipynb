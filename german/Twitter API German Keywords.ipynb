{
 "cells": [
  {
   "cell_type": "code",
   "execution_count": 3,
   "metadata": {},
   "outputs": [],
   "source": [
    "import pandas as pd\n",
    "from datetime import datetime\n",
    "import re"
   ]
  },
  {
   "cell_type": "code",
   "execution_count": 2,
   "metadata": {},
   "outputs": [],
   "source": [
    "#!pip3 install twitter_scraper\n",
    "import twitter_scraper\n",
    "from twitter_scraper import get_tweets"
   ]
  },
  {
   "cell_type": "code",
   "execution_count": 4,
   "metadata": {},
   "outputs": [],
   "source": [
    "# List of hashtags that we're interested in\n",
    "keywords = [\"schnelltest\",\"teststrategie\",\"intensivbetten\",\"intensivstationen\",\"impfung\",\"impfstrategie\",\"impfen\",\"impflinge\",\"biontech\",\"pfizer\", \"biontech/pfizer\",\"moderna\",\"johnson&johnson\", \"curevac\",\"astrazeneca\",\"astra-zeneca\",\"oxford\",\"janssen\"]\n"
   ]
  },
  {
   "cell_type": "code",
   "execution_count": 8,
   "metadata": {},
   "outputs": [
    {
     "ename": "ValueError",
     "evalue": "Oops! Either \"%23deeplearning\" does not exist or is private.",
     "output_type": "error",
     "traceback": [
      "\u001b[0;31m---------------------------------------------------------------------------\u001b[0m",
      "\u001b[0;31mKeyError\u001b[0m                                  Traceback (most recent call last)",
      "\u001b[0;32m~/opt/anaconda3/lib/python3.8/site-packages/twitter_scraper/modules/tweets.py\u001b[0m in \u001b[0;36mgen_tweets\u001b[0;34m(pages)\u001b[0m\n\u001b[1;32m     36\u001b[0m                 html = HTML(\n\u001b[0;32m---> 37\u001b[0;31m                     \u001b[0mhtml\u001b[0m\u001b[0;34m=\u001b[0m\u001b[0mr\u001b[0m\u001b[0;34m.\u001b[0m\u001b[0mjson\u001b[0m\u001b[0;34m(\u001b[0m\u001b[0;34m)\u001b[0m\u001b[0;34m[\u001b[0m\u001b[0;34m\"items_html\"\u001b[0m\u001b[0;34m]\u001b[0m\u001b[0;34m,\u001b[0m \u001b[0murl\u001b[0m\u001b[0;34m=\u001b[0m\u001b[0;34m\"bunk\"\u001b[0m\u001b[0;34m,\u001b[0m \u001b[0mdefault_encoding\u001b[0m\u001b[0;34m=\u001b[0m\u001b[0;34m\"utf-8\"\u001b[0m\u001b[0;34m\u001b[0m\u001b[0;34m\u001b[0m\u001b[0m\n\u001b[0m\u001b[1;32m     38\u001b[0m                 )\n",
      "\u001b[0;31mKeyError\u001b[0m: 'items_html'",
      "\nDuring handling of the above exception, another exception occurred:\n",
      "\u001b[0;31mValueError\u001b[0m                                Traceback (most recent call last)",
      "\u001b[0;32m<ipython-input-8-0b406a1db302>\u001b[0m in \u001b[0;36m<module>\u001b[0;34m\u001b[0m\n\u001b[1;32m      4\u001b[0m \u001b[0;34m\u001b[0m\u001b[0m\n\u001b[1;32m      5\u001b[0m \u001b[0;31m# Lets print the keys and values obtained\u001b[0m\u001b[0;34m\u001b[0m\u001b[0;34m\u001b[0m\u001b[0;34m\u001b[0m\u001b[0m\n\u001b[0;32m----> 6\u001b[0;31m \u001b[0;32mfor\u001b[0m \u001b[0mtweet\u001b[0m \u001b[0;32min\u001b[0m \u001b[0mtweets\u001b[0m\u001b[0;34m:\u001b[0m\u001b[0;34m\u001b[0m\u001b[0;34m\u001b[0m\u001b[0m\n\u001b[0m\u001b[1;32m      7\u001b[0m     \u001b[0mprint\u001b[0m\u001b[0;34m(\u001b[0m\u001b[0;34m'Keys:'\u001b[0m\u001b[0;34m,\u001b[0m \u001b[0mlist\u001b[0m\u001b[0;34m(\u001b[0m\u001b[0mtweet\u001b[0m\u001b[0;34m.\u001b[0m\u001b[0mkeys\u001b[0m\u001b[0;34m(\u001b[0m\u001b[0;34m)\u001b[0m\u001b[0;34m)\u001b[0m\u001b[0;34m,\u001b[0m \u001b[0;34m'\\n'\u001b[0m\u001b[0;34m)\u001b[0m\u001b[0;34m\u001b[0m\u001b[0;34m\u001b[0m\u001b[0m\n\u001b[1;32m      8\u001b[0m     \u001b[0;32mbreak\u001b[0m\u001b[0;34m\u001b[0m\u001b[0;34m\u001b[0m\u001b[0m\n",
      "\u001b[0;32m~/opt/anaconda3/lib/python3.8/site-packages/twitter_scraper/modules/tweets.py\u001b[0m in \u001b[0;36mget_tweets\u001b[0;34m(query, pages)\u001b[0m\n\u001b[1;32m    168\u001b[0m             \u001b[0mpages\u001b[0m \u001b[0;34m+=\u001b[0m \u001b[0;34m-\u001b[0m\u001b[0;36m1\u001b[0m\u001b[0;34m\u001b[0m\u001b[0;34m\u001b[0m\u001b[0m\n\u001b[1;32m    169\u001b[0m \u001b[0;34m\u001b[0m\u001b[0m\n\u001b[0;32m--> 170\u001b[0;31m     \u001b[0;32myield\u001b[0m \u001b[0;32mfrom\u001b[0m \u001b[0mgen_tweets\u001b[0m\u001b[0;34m(\u001b[0m\u001b[0mpages\u001b[0m\u001b[0;34m)\u001b[0m\u001b[0;34m\u001b[0m\u001b[0;34m\u001b[0m\u001b[0m\n\u001b[0m\u001b[1;32m    171\u001b[0m \u001b[0;34m\u001b[0m\u001b[0m\n\u001b[1;32m    172\u001b[0m \u001b[0;34m\u001b[0m\u001b[0m\n",
      "\u001b[0;32m~/opt/anaconda3/lib/python3.8/site-packages/twitter_scraper/modules/tweets.py\u001b[0m in \u001b[0;36mgen_tweets\u001b[0;34m(pages)\u001b[0m\n\u001b[1;32m     38\u001b[0m                 )\n\u001b[1;32m     39\u001b[0m             \u001b[0;32mexcept\u001b[0m \u001b[0mKeyError\u001b[0m\u001b[0;34m:\u001b[0m\u001b[0;34m\u001b[0m\u001b[0;34m\u001b[0m\u001b[0m\n\u001b[0;32m---> 40\u001b[0;31m                 raise ValueError(\n\u001b[0m\u001b[1;32m     41\u001b[0m                     \u001b[0;34mf'Oops! Either \"{query}\" does not exist or is private.'\u001b[0m\u001b[0;34m\u001b[0m\u001b[0;34m\u001b[0m\u001b[0m\n\u001b[1;32m     42\u001b[0m                 )\n",
      "\u001b[0;31mValueError\u001b[0m: Oops! Either \"%23deeplearning\" does not exist or is private."
     ]
    }
   ],
   "source": [
    "# Lets run one iteration to understand how to implement this library\n",
    "tweets = get_tweets(\"#deeplearning\", pages = 5)\n",
    "tweets_df = pd.DataFrame()\n",
    "\n",
    "# Lets print the keys and values obtained\n",
    "for tweet in tweets:\n",
    "    print('Keys:', list(tweet.keys()), '\\n')\n",
    "    break\n",
    "\n",
    "# Running the code for one keyword and extracting the relevant data\n",
    "for tweet in tweets:\n",
    "    _ = pd.DataFrame({'text' : [tweet['text']],\n",
    "                    'isRetweet' : tweet['isRetweet'],\n",
    "                    'replies' : tweet['replies'],\n",
    "                    'retweets' : tweet['retweets'],\n",
    "                    'likes' : tweet['likes']\n",
    "                    })\n",
    "    tweets_df = tweets_df.append(_, ignore_index = True)\n",
    "    \n",
    "tweets_df.head()"
   ]
  },
  {
   "cell_type": "code",
   "execution_count": null,
   "metadata": {},
   "outputs": [],
   "source": []
  }
 ],
 "metadata": {
  "kernelspec": {
   "display_name": "Python 3",
   "language": "python",
   "name": "python3"
  },
  "language_info": {
   "codemirror_mode": {
    "name": "ipython",
    "version": 3
   },
   "file_extension": ".py",
   "mimetype": "text/x-python",
   "name": "python",
   "nbconvert_exporter": "python",
   "pygments_lexer": "ipython3",
   "version": "3.8.3"
  }
 },
 "nbformat": 4,
 "nbformat_minor": 4
}
